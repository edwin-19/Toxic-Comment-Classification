{
 "cells": [
  {
   "cell_type": "code",
   "execution_count": 1,
   "metadata": {},
   "outputs": [],
   "source": [
    "import pandas as pd\n",
    "import numpy as np"
   ]
  },
  {
   "cell_type": "code",
   "execution_count": 2,
   "metadata": {},
   "outputs": [],
   "source": [
    "df = pd.read_csv('../output/avnn_rnn.csv')"
   ]
  },
  {
   "cell_type": "code",
   "execution_count": 3,
   "metadata": {},
   "outputs": [
    {
     "data": {
      "text/html": [
       "<div>\n",
       "<style scoped>\n",
       "    .dataframe tbody tr th:only-of-type {\n",
       "        vertical-align: middle;\n",
       "    }\n",
       "\n",
       "    .dataframe tbody tr th {\n",
       "        vertical-align: top;\n",
       "    }\n",
       "\n",
       "    .dataframe thead th {\n",
       "        text-align: right;\n",
       "    }\n",
       "</style>\n",
       "<table border=\"1\" class=\"dataframe\">\n",
       "  <thead>\n",
       "    <tr style=\"text-align: right;\">\n",
       "      <th></th>\n",
       "      <th>id</th>\n",
       "      <th>comment_text</th>\n",
       "      <th>toxic</th>\n",
       "      <th>severe_toxic</th>\n",
       "      <th>obscene</th>\n",
       "      <th>threat</th>\n",
       "      <th>insult</th>\n",
       "      <th>identity_hate</th>\n",
       "    </tr>\n",
       "  </thead>\n",
       "  <tbody>\n",
       "    <tr>\n",
       "      <th>0</th>\n",
       "      <td>00001cee341fdb12</td>\n",
       "      <td>yo bitch ja rule is more succesful then youll ...</td>\n",
       "      <td>0.001696</td>\n",
       "      <td>8.378340e-07</td>\n",
       "      <td>0.000062</td>\n",
       "      <td>4.772607e-06</td>\n",
       "      <td>0.000090</td>\n",
       "      <td>0.000134</td>\n",
       "    </tr>\n",
       "    <tr>\n",
       "      <th>1</th>\n",
       "      <td>0000247867823ef7</td>\n",
       "      <td>from rfc the title is fine as it is imo</td>\n",
       "      <td>0.000174</td>\n",
       "      <td>4.470027e-07</td>\n",
       "      <td>0.000006</td>\n",
       "      <td>1.705773e-07</td>\n",
       "      <td>0.000039</td>\n",
       "      <td>0.000013</td>\n",
       "    </tr>\n",
       "    <tr>\n",
       "      <th>2</th>\n",
       "      <td>00013b17ad220c46</td>\n",
       "      <td>sources zawe ashton on lapland</td>\n",
       "      <td>0.000164</td>\n",
       "      <td>2.218864e-07</td>\n",
       "      <td>0.000004</td>\n",
       "      <td>5.307872e-07</td>\n",
       "      <td>0.000005</td>\n",
       "      <td>0.000005</td>\n",
       "    </tr>\n",
       "    <tr>\n",
       "      <th>3</th>\n",
       "      <td>00017563c3f7919a</td>\n",
       "      <td>if you have a look back at the source the info...</td>\n",
       "      <td>0.139288</td>\n",
       "      <td>9.605532e-05</td>\n",
       "      <td>0.197130</td>\n",
       "      <td>2.622308e-05</td>\n",
       "      <td>0.003172</td>\n",
       "      <td>0.000129</td>\n",
       "    </tr>\n",
       "    <tr>\n",
       "      <th>4</th>\n",
       "      <td>00017695ad8997eb</td>\n",
       "      <td>i do not anonymously edit articles at all</td>\n",
       "      <td>0.002618</td>\n",
       "      <td>4.767419e-05</td>\n",
       "      <td>0.000199</td>\n",
       "      <td>4.740346e-05</td>\n",
       "      <td>0.002142</td>\n",
       "      <td>0.000150</td>\n",
       "    </tr>\n",
       "  </tbody>\n",
       "</table>\n",
       "</div>"
      ],
      "text/plain": [
       "                 id                                       comment_text  \\\n",
       "0  00001cee341fdb12  yo bitch ja rule is more succesful then youll ...   \n",
       "1  0000247867823ef7            from rfc the title is fine as it is imo   \n",
       "2  00013b17ad220c46                     sources zawe ashton on lapland   \n",
       "3  00017563c3f7919a  if you have a look back at the source the info...   \n",
       "4  00017695ad8997eb          i do not anonymously edit articles at all   \n",
       "\n",
       "      toxic  severe_toxic   obscene        threat    insult  identity_hate  \n",
       "0  0.001696  8.378340e-07  0.000062  4.772607e-06  0.000090       0.000134  \n",
       "1  0.000174  4.470027e-07  0.000006  1.705773e-07  0.000039       0.000013  \n",
       "2  0.000164  2.218864e-07  0.000004  5.307872e-07  0.000005       0.000005  \n",
       "3  0.139288  9.605532e-05  0.197130  2.622308e-05  0.003172       0.000129  \n",
       "4  0.002618  4.767419e-05  0.000199  4.740346e-05  0.002142       0.000150  "
      ]
     },
     "execution_count": 3,
     "metadata": {},
     "output_type": "execute_result"
    }
   ],
   "source": [
    "df.head()"
   ]
  },
  {
   "cell_type": "code",
   "execution_count": 30,
   "metadata": {},
   "outputs": [],
   "source": [
    "first_row = df.iloc[:1, 1:]\n",
    "percentage = df.iloc[:1, 2:]"
   ]
  }
 ],
 "metadata": {
  "kernelspec": {
   "display_name": "Python 3",
   "language": "python",
   "name": "python3"
  },
  "language_info": {
   "codemirror_mode": {
    "name": "ipython",
    "version": 3
   },
   "file_extension": ".py",
   "mimetype": "text/x-python",
   "name": "python",
   "nbconvert_exporter": "python",
   "pygments_lexer": "ipython3",
   "version": "3.6.9"
  }
 },
 "nbformat": 4,
 "nbformat_minor": 2
}
